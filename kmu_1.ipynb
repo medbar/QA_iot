{
 "cells": [
  {
   "cell_type": "code",
   "execution_count": 226,
   "metadata": {},
   "outputs": [],
   "source": [
    "import numpy as np\n",
    "import pandas as pd\n",
    "import gensim\n",
    "import pymorphy2\n",
    "import tqdm"
   ]
  },
  {
   "cell_type": "code",
   "execution_count": 2,
   "metadata": {},
   "outputs": [],
   "source": [
    "model = gensim.models.KeyedVectors.load_word2vec_format(\"180/model.bin\", binary=True)"
   ]
  },
  {
   "cell_type": "code",
   "execution_count": 10,
   "metadata": {},
   "outputs": [],
   "source": [
    "model.init_sims(replace=True)\n",
    "\n",
    "morph = pymorphy2.MorphAnalyzer()"
   ]
  },
  {
   "cell_type": "code",
   "execution_count": 19,
   "metadata": {},
   "outputs": [],
   "source": []
  },
  {
   "cell_type": "code",
   "execution_count": 151,
   "metadata": {},
   "outputs": [
    {
     "ename": "KeyError",
     "evalue": "\"word 'стиральная_ADJ' not in vocabulary\"",
     "output_type": "error",
     "traceback": [
      "\u001b[0;31m---------------------------------------------------------------------------\u001b[0m",
      "\u001b[0;31mKeyError\u001b[0m                                  Traceback (most recent call last)",
      "\u001b[0;32m<ipython-input-151-49b46f6f7c4f>\u001b[0m in \u001b[0;36m<module>\u001b[0;34m()\u001b[0m\n\u001b[0;32m----> 1\u001b[0;31m \u001b[0mmodel\u001b[0m\u001b[0;34m.\u001b[0m\u001b[0mmost_similar\u001b[0m\u001b[0;34m(\u001b[0m\u001b[0;34m[\u001b[0m\u001b[0;34m\"стиральная_ADJ\"\u001b[0m\u001b[0;34m]\u001b[0m\u001b[0;34m,\u001b[0m\u001b[0mtopn\u001b[0m\u001b[0;34m=\u001b[0m\u001b[0;36m15\u001b[0m\u001b[0;34m)\u001b[0m\u001b[0;34m\u001b[0m\u001b[0m\n\u001b[0m",
      "\u001b[0;32m~/anaconda3/lib/python3.6/site-packages/gensim/models/keyedvectors.py\u001b[0m in \u001b[0;36mmost_similar\u001b[0;34m(self, positive, negative, topn, restrict_vocab, indexer)\u001b[0m\n\u001b[1;32m    542\u001b[0m                 \u001b[0mmean\u001b[0m\u001b[0;34m.\u001b[0m\u001b[0mappend\u001b[0m\u001b[0;34m(\u001b[0m\u001b[0mweight\u001b[0m \u001b[0;34m*\u001b[0m \u001b[0mword\u001b[0m\u001b[0;34m)\u001b[0m\u001b[0;34m\u001b[0m\u001b[0m\n\u001b[1;32m    543\u001b[0m             \u001b[0;32melse\u001b[0m\u001b[0;34m:\u001b[0m\u001b[0;34m\u001b[0m\u001b[0m\n\u001b[0;32m--> 544\u001b[0;31m                 \u001b[0mmean\u001b[0m\u001b[0;34m.\u001b[0m\u001b[0mappend\u001b[0m\u001b[0;34m(\u001b[0m\u001b[0mweight\u001b[0m \u001b[0;34m*\u001b[0m \u001b[0mself\u001b[0m\u001b[0;34m.\u001b[0m\u001b[0mword_vec\u001b[0m\u001b[0;34m(\u001b[0m\u001b[0mword\u001b[0m\u001b[0;34m,\u001b[0m \u001b[0muse_norm\u001b[0m\u001b[0;34m=\u001b[0m\u001b[0;32mTrue\u001b[0m\u001b[0;34m)\u001b[0m\u001b[0;34m)\u001b[0m\u001b[0;34m\u001b[0m\u001b[0m\n\u001b[0m\u001b[1;32m    545\u001b[0m                 \u001b[0;32mif\u001b[0m \u001b[0mword\u001b[0m \u001b[0;32min\u001b[0m \u001b[0mself\u001b[0m\u001b[0;34m.\u001b[0m\u001b[0mvocab\u001b[0m\u001b[0;34m:\u001b[0m\u001b[0;34m\u001b[0m\u001b[0m\n\u001b[1;32m    546\u001b[0m                     \u001b[0mall_words\u001b[0m\u001b[0;34m.\u001b[0m\u001b[0madd\u001b[0m\u001b[0;34m(\u001b[0m\u001b[0mself\u001b[0m\u001b[0;34m.\u001b[0m\u001b[0mvocab\u001b[0m\u001b[0;34m[\u001b[0m\u001b[0mword\u001b[0m\u001b[0;34m]\u001b[0m\u001b[0;34m.\u001b[0m\u001b[0mindex\u001b[0m\u001b[0;34m)\u001b[0m\u001b[0;34m\u001b[0m\u001b[0m\n",
      "\u001b[0;32m~/anaconda3/lib/python3.6/site-packages/gensim/models/keyedvectors.py\u001b[0m in \u001b[0;36mword_vec\u001b[0;34m(self, word, use_norm)\u001b[0m\n\u001b[1;32m    460\u001b[0m             \u001b[0;32mreturn\u001b[0m \u001b[0mresult\u001b[0m\u001b[0;34m\u001b[0m\u001b[0m\n\u001b[1;32m    461\u001b[0m         \u001b[0;32melse\u001b[0m\u001b[0;34m:\u001b[0m\u001b[0;34m\u001b[0m\u001b[0m\n\u001b[0;32m--> 462\u001b[0;31m             \u001b[0;32mraise\u001b[0m \u001b[0mKeyError\u001b[0m\u001b[0;34m(\u001b[0m\u001b[0;34m\"word '%s' not in vocabulary\"\u001b[0m \u001b[0;34m%\u001b[0m \u001b[0mword\u001b[0m\u001b[0;34m)\u001b[0m\u001b[0;34m\u001b[0m\u001b[0m\n\u001b[0m\u001b[1;32m    463\u001b[0m \u001b[0;34m\u001b[0m\u001b[0m\n\u001b[1;32m    464\u001b[0m     \u001b[0;32mdef\u001b[0m \u001b[0mget_vector\u001b[0m\u001b[0;34m(\u001b[0m\u001b[0mself\u001b[0m\u001b[0;34m,\u001b[0m \u001b[0mword\u001b[0m\u001b[0;34m)\u001b[0m\u001b[0;34m:\u001b[0m\u001b[0;34m\u001b[0m\u001b[0m\n",
      "\u001b[0;31mKeyError\u001b[0m: \"word 'стиральная_ADJ' not in vocabulary\""
     ]
    }
   ],
   "source": [
    "model.most_similar([\"стиральная_ADJ\"],topn=15)"
   ]
  },
  {
   "cell_type": "code",
   "execution_count": 198,
   "metadata": {},
   "outputs": [],
   "source": [
    "morph.parse(\"слегка\")[0].tag.case"
   ]
  },
  {
   "cell_type": "code",
   "execution_count": 227,
   "metadata": {},
   "outputs": [],
   "source": [
    "# pymorphy2: word2vec \n",
    "cotags = {'ADJF':'ADJ', # прилогательное\n",
    "'ADJS' : 'ADJ',  # прилогательное\n",
    "'ADVB' : 'ADV',  # наречие\n",
    "'COMP' : 'ADV',  # компаратив\n",
    "'GRND' : 'VERB', # деепричастие\n",
    "'INFN' : 'VERB', # глагол (инфинитив)\n",
    "'NOUN' : 'NOUN', # имя существительное\n",
    "'PRED' : 'ADV',  # предикатив\n",
    "'PRTF' : 'ADJ',  # причастие\n",
    "'PRTS' : 'VERB', # причастие\n",
    "'NPRO' : 'NOUN', # местоимение-существительное\n",
    "'CONJ' : 'ADV',   \n",
    "'NUMR' : 'NUM', # числительные\n",
    "'INTJ' : 'INTJ',\n",
    "'VERB' : 'VERB'} # глагол\n",
    "\n",
    "\n",
    "def search_neighbours(word, max_nei=5, topn=20, min_score=0.4):\n",
    "    result = set([word])\n",
    "    m = morph.parse(word)[0]\n",
    "    #gend = m.tag.gender\n",
    "    pos = m.tag.POS\n",
    "    word = m.normal_form\n",
    "    word = word.replace('ё', 'е')\n",
    "    #print(word, pos, gend)\n",
    "    if pos not in cotags.keys():\n",
    "        #print(\"Not good pos {} \".format(pos))\n",
    "        return result\n",
    "    lex = word + '_' + cotags[pos]\n",
    "    if lex not in model :\n",
    "        #print(\"Word {} not in model\".format(lex))\n",
    "        return result\n",
    "\n",
    "    neighbs = model.most_similar([lex], topn=topn)\n",
    "    for nei in neighbs:\n",
    "        #print(nei)\n",
    "        if nei[1] < min_score:\n",
    "            break\n",
    "        lex_n, ps_n = nei[0].split('_')\n",
    "        #print(lex_n, ps_n)\n",
    "        if '::' in lex_n or ps_n not in cotags.values() or lex_n.startswith(\"-\"): \n",
    "            continue\n",
    "        if cotags[pos] == ps_n:\n",
    "            #if True or pos == 'NOUN':\n",
    "            parse_result = morph.parse(lex_n)\n",
    "            for ana in parse_result:\n",
    "                #if ana.normal_form == lex_n:\n",
    "                if ana.tag.gender == m.tag.gender and \\\n",
    "                ana.tag.number == m.tag.number and \\\n",
    "                ana.tag.case == m.tag.case:\n",
    "                    #print(\"сущь\")\n",
    "                    result.add(lex_n)\n",
    "            #elif cotags[pos] == 'VERB' and word[-2:] == 'ся':\n",
    "            #    if lex_n[-2:] == 'ся':\n",
    "            #        print(\"гл\")\n",
    "            #        result.add(lex_n)\n",
    "            #elif cotags[pos] == 'VERB' and word[-2:] != 'ся':\n",
    "            #    if lex_n[-2:] != 'ся':\n",
    "            #        print(\"гл\")\n",
    "            #        result.add(lex_n)\n",
    "            #else:\n",
    "            #    result.add(lex_n)\n",
    "        if len(result) >= max_nei:\n",
    "            break\n",
    "    return result"
   ]
  },
  {
   "cell_type": "code",
   "execution_count": 228,
   "metadata": {},
   "outputs": [
    {
     "name": "stdout",
     "output_type": "stream",
     "text": [
      "Orig:сделай\n",
      "Replace:принесть сделай\n",
      "Orig:чуть\n",
      "Replace:немного чуть немножко слегка заметно\n",
      "Orig:тише\n",
      "Replace:тише\n"
     ]
    }
   ],
   "source": [
    "for word in \"сделай чуть тише\".split():\n",
    "    print(\"Orig:{}\".format(word))\n",
    "    nei = search_neighbours(word)\n",
    "    if len(nei) > 0 :\n",
    "        print(\"Replace:{}\".format(' '.join(nei)))"
   ]
  },
  {
   "cell_type": "code",
   "execution_count": 215,
   "metadata": {},
   "outputs": [],
   "source": [
    "iot_commands_v01 = pd.read_csv(\"data/iot_commands_v0.1.csv\", sep=\";\")\n",
    "\n",
    "print(\"Total {} rows\".format(len(iot_commands_v01)))\n",
    "variable_text = []\n",
    "for i, row in iot_commands_v01.iterrows():\n",
    "    if i % 50 == 0:\n",
    "        print(i)\n",
    "    variable_transciptions = [search_neighbours(word, max_nei=10, topn=40, min_score=0.3) for word in row.text.split()]\n",
    "    #print(variable_transciptions)\n",
    "    #print(\"Orig: {}\".format(row.text))\n",
    "    out_str = \"[{}]\".format(\"] [\".join([\"|\".join(s) for s in variable_transciptions]))\n",
    "    variable_text.append(out_str)\n",
    "iot_commands_v01[\"variable_text\"] = variable_text"
   ]
  },
  {
   "cell_type": "code",
   "execution_count": 240,
   "metadata": {},
   "outputs": [
    {
     "data": {
      "text/html": [
       "<div>\n",
       "<style scoped>\n",
       "    .dataframe tbody tr th:only-of-type {\n",
       "        vertical-align: middle;\n",
       "    }\n",
       "\n",
       "    .dataframe tbody tr th {\n",
       "        vertical-align: top;\n",
       "    }\n",
       "\n",
       "    .dataframe thead th {\n",
       "        text-align: right;\n",
       "    }\n",
       "</style>\n",
       "<table border=\"1\" class=\"dataframe\">\n",
       "  <thead>\n",
       "    <tr style=\"text-align: right;\">\n",
       "      <th></th>\n",
       "      <th>type</th>\n",
       "      <th>device</th>\n",
       "      <th>condition</th>\n",
       "      <th>location</th>\n",
       "      <th>params</th>\n",
       "      <th>if_schedule</th>\n",
       "      <th>text</th>\n",
       "      <th>variable_text</th>\n",
       "    </tr>\n",
       "  </thead>\n",
       "  <tbody>\n",
       "    <tr>\n",
       "      <th>0</th>\n",
       "      <td>1</td>\n",
       "      <td>1</td>\n",
       "      <td>0</td>\n",
       "      <td>0</td>\n",
       "      <td>0</td>\n",
       "      <td>1</td>\n",
       "      <td>включай стиральную машину в время каждое четно...</td>\n",
       "      <td>[включай] [стиральную] [опель|машину] [в] [оле...</td>\n",
       "    </tr>\n",
       "    <tr>\n",
       "      <th>1</th>\n",
       "      <td>1</td>\n",
       "      <td>1</td>\n",
       "      <td>1</td>\n",
       "      <td>0</td>\n",
       "      <td>0</td>\n",
       "      <td>1</td>\n",
       "      <td>когда стиральная машина закончит стирку сообщи...</td>\n",
       "      <td>[рано|как|тогда|прежде|когда|уже|еще|теперь|ко...</td>\n",
       "    </tr>\n",
       "    <tr>\n",
       "      <th>2</th>\n",
       "      <td>1</td>\n",
       "      <td>0</td>\n",
       "      <td>0</td>\n",
       "      <td>0</td>\n",
       "      <td>0</td>\n",
       "      <td>0</td>\n",
       "      <td>включи стирку а потом отжим</td>\n",
       "      <td>[включи|включять] [стирку] [а] [потом|тут|заче...</td>\n",
       "    </tr>\n",
       "    <tr>\n",
       "      <th>3</th>\n",
       "      <td>3</td>\n",
       "      <td>0</td>\n",
       "      <td>0</td>\n",
       "      <td>0</td>\n",
       "      <td>0</td>\n",
       "      <td>1</td>\n",
       "      <td>сколько раз за месяц я стирал</td>\n",
       "      <td>[беда|сколько|сколь|много|столько|столько-то|д...</td>\n",
       "    </tr>\n",
       "    <tr>\n",
       "      <th>4</th>\n",
       "      <td>1</td>\n",
       "      <td>0</td>\n",
       "      <td>1</td>\n",
       "      <td>0</td>\n",
       "      <td>0</td>\n",
       "      <td>1</td>\n",
       "      <td>имитируй присутствие людей с число июня до чис...</td>\n",
       "      <td>[имитируй] [действие|расположение|нерасположен...</td>\n",
       "    </tr>\n",
       "  </tbody>\n",
       "</table>\n",
       "</div>"
      ],
      "text/plain": [
       "   type  device  condition  location  params  if_schedule  \\\n",
       "0     1       1          0         0       0            1   \n",
       "1     1       1          1         0       0            1   \n",
       "2     1       0          0         0       0            0   \n",
       "3     3       0          0         0       0            1   \n",
       "4     1       0          1         0       0            1   \n",
       "\n",
       "                                                text  \\\n",
       "0  включай стиральную машину в время каждое четно...   \n",
       "1  когда стиральная машина закончит стирку сообщи...   \n",
       "2                        включи стирку а потом отжим   \n",
       "3                      сколько раз за месяц я стирал   \n",
       "4  имитируй присутствие людей с число июня до чис...   \n",
       "\n",
       "                                       variable_text  \n",
       "0  [включай] [стиральную] [опель|машину] [в] [оле...  \n",
       "1  [рано|как|тогда|прежде|когда|уже|еще|теперь|ко...  \n",
       "2  [включи|включять] [стирку] [а] [потом|тут|заче...  \n",
       "3  [беда|сколько|сколь|много|столько|столько-то|д...  \n",
       "4  [имитируй] [действие|расположение|нерасположен...  "
      ]
     },
     "execution_count": 240,
     "metadata": {},
     "output_type": "execute_result"
    }
   ],
   "source": [
    "iot_commands_v01.head(5)"
   ]
  },
  {
   "cell_type": "code",
   "execution_count": 244,
   "metadata": {},
   "outputs": [],
   "source": [
    "iot_commands_v01.to_csv(\"data/iot_commands_w2vtext_v0.1.csv\", index_label=\"id\", sep=\";\")"
   ]
  },
  {
   "cell_type": "code",
   "execution_count": null,
   "metadata": {},
   "outputs": [],
   "source": []
  }
 ],
 "metadata": {
  "kernelspec": {
   "display_name": "Python 3",
   "language": "python",
   "name": "python3"
  },
  "language_info": {
   "codemirror_mode": {
    "name": "ipython",
    "version": 3
   },
   "file_extension": ".py",
   "mimetype": "text/x-python",
   "name": "python",
   "nbconvert_exporter": "python",
   "pygments_lexer": "ipython3",
   "version": "3.6.8"
  }
 },
 "nbformat": 4,
 "nbformat_minor": 2
}
