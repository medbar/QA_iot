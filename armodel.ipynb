{
 "cells": [
  {
   "cell_type": "code",
   "execution_count": 1,
   "metadata": {},
   "outputs": [],
   "source": [
    "import numpy as np\n"
   ]
  },
  {
   "cell_type": "code",
   "execution_count": 2,
   "metadata": {},
   "outputs": [],
   "source": [
    "from gensim.test.utils import datapath, get_tmpfile\n",
    "from gensim.models import KeyedVectors\n",
    "from gensim.scripts.glove2word2vec import glove2word2vec\n"
   ]
  },
  {
   "cell_type": "code",
   "execution_count": 3,
   "metadata": {},
   "outputs": [],
   "source": [
    "glove_file =\"models/ArModel100.txt\"\n",
    "tmp_file = \"models/ArModel100_w2v.txt\"\n",
    "\n",
    "#_ = glove2word2vec(glove_file, tmp_file)"
   ]
  },
  {
   "cell_type": "code",
   "execution_count": 4,
   "metadata": {},
   "outputs": [],
   "source": [
    "\n",
    "model = KeyedVectors.load_word2vec_format(tmp_file)"
   ]
  },
  {
   "cell_type": "code",
   "execution_count": 5,
   "metadata": {},
   "outputs": [],
   "source": [
    "model.init_sims(replace=True)"
   ]
  },
  {
   "cell_type": "code",
   "execution_count": 6,
   "metadata": {},
   "outputs": [
    {
     "data": {
      "text/plain": [
       "[('контролируемый', 0.7408939599990845),\n",
       " ('унифицированный', 0.7211440801620483),\n",
       " ('мощный', 0.7154970169067383),\n",
       " ('инерциальный', 0.7115138173103333),\n",
       " ('линейный', 0.707711398601532),\n",
       " ('создаваемый', 0.6971192955970764),\n",
       " ('радиолокационный', 0.6962533593177795),\n",
       " ('безмоторный', 0.6878050565719604),\n",
       " ('сконструированный', 0.6872773170471191),\n",
       " ('трансляционный', 0.6870273351669312),\n",
       " ('планетарный', 0.6854516267776489),\n",
       " ('высоконадежный', 0.6850863695144653),\n",
       " ('реверсивный', 0.6828446388244629),\n",
       " ('усовершенствованный', 0.682282030582428),\n",
       " ('инерционный', 0.6791269183158875),\n",
       " ('роботизированный', 0.6755259037017822),\n",
       " ('гидроакустический', 0.6737356781959534),\n",
       " ('сверхмощный', 0.6735060214996338),\n",
       " ('коммутационный', 0.6733840107917786),\n",
       " ('грузоподъемный', 0.6724337339401245),\n",
       " ('пилотажный', 0.6681207418441772),\n",
       " ('локатор', 0.6677592992782593),\n",
       " ('усилительный', 0.6658490896224976),\n",
       " ('баллистический', 0.6646163463592529),\n",
       " ('навигационный', 0.6644648909568787)]"
      ]
     },
     "execution_count": 6,
     "metadata": {},
     "output_type": "execute_result"
    }
   ],
   "source": [
    "model.most_similar([\"управляемый\"], topn=25)"
   ]
  },
  {
   "cell_type": "code",
   "execution_count": 14,
   "metadata": {},
   "outputs": [],
   "source": [
    "def search_neighbours(word, topn=15, min_score=0.4):\n",
    "    result = set([word])\n",
    "    if word not in model:\n",
    "        return result\n",
    "    neighbs = model.most_similar(word, topn=topn)\n",
    "    for nei in neighbs:\n",
    "        #print(nei)\n",
    "        if nei[1] < min_score:\n",
    "            break\n",
    "        result.add(nei[0])\n",
    "    return result"
   ]
  },
  {
   "cell_type": "code",
   "execution_count": 8,
   "metadata": {},
   "outputs": [],
   "source": [
    "#import pymorphy2\n",
    "import pandas as pd"
   ]
  },
  {
   "cell_type": "code",
   "execution_count": 15,
   "metadata": {},
   "outputs": [
    {
     "name": "stdout",
     "output_type": "stream",
     "text": [
      "Word: сделай\n",
      "synonims: {'найди', 'скажи', 'принеси', 'запомни', 'рисуй', 'действуй', 'сделай', 'запиши', 'делай', 'нарисуй', 'смотри', 'покажи', 'придумай', 'открой', 'пойди', 'возьми'}\n",
      "Word: немного\n",
      "synonims: {'погуще', 'чуточку', 'немного', 'чуть-', 'пресновато', 'подсолила', 'слегка', 'хорошенько', 'хорошенечко', 'чуток', 'чуть-чуть', 'чу-чуть', 'твердоватой', 'немножко', 'перемешаешь', 'поджарился'}\n",
      "Word: тише\n",
      "synonims: {'громче', 'спокойнее', 'тише', 'быстрей', 'храпеть', 'бодрее', 'резче', 'спокойней', 'теплей', 'мелодичнее', 'тихо-тихо', 'звонче', 'тихо', 'потише', 'глуше', 'звончей'}\n"
     ]
    }
   ],
   "source": [
    "for w in [\"сделай\", \"немного\", \"тише\"]:\n",
    "    print(\"Word: {}\".format(w))\n",
    "    s = search_neighbours(w)\n",
    "    print(\"synonims: {}\".format(s))"
   ]
  },
  {
   "cell_type": "code",
   "execution_count": 10,
   "metadata": {},
   "outputs": [],
   "source": [
    "model.save(\"models/ArModel100_w2v.md\")"
   ]
  },
  {
   "cell_type": "code",
   "execution_count": 16,
   "metadata": {},
   "outputs": [
    {
     "name": "stdout",
     "output_type": "stream",
     "text": [
      "Total 321 rows\n",
      "0\n",
      "50\n",
      "100\n",
      "150\n",
      "200\n",
      "250\n",
      "300\n"
     ]
    }
   ],
   "source": [
    "iot_commands_v01 = pd.read_csv(\"data/iot_commands_v0.1.csv\", sep=\";\")\n",
    "\n",
    "print(\"Total {} rows\".format(len(iot_commands_v01)))\n",
    "variable_text = []\n",
    "for i, row in iot_commands_v01.iterrows():\n",
    "    if i % 50 == 0:\n",
    "        print(i)\n",
    "    variable_transciptions = [search_neighbours(word, topn=15, min_score=0.4) for word in row.text.split()]\n",
    "    #print(variable_transciptions)\n",
    "    #print(\"Orig: {}\".format(row.text))\n",
    "    out_str = \"[{}]\".format(\"] [\".join([\"|\".join(s) for s in variable_transciptions]))\n",
    "    variable_text.append(out_str)\n",
    "iot_commands_v01[\"variable_text\"] = variable_text"
   ]
  },
  {
   "cell_type": "code",
   "execution_count": null,
   "metadata": {},
   "outputs": [],
   "source": [
    "iot_commands_v01.to_csv(\"data/iot_commands_w2vtext_armodel_v0.1.csv\", index_label=\"id\", sep=\";\")"
   ]
  },
  {
   "cell_type": "code",
   "execution_count": 17,
   "metadata": {},
   "outputs": [
    {
     "data": {
      "text/html": [
       "<div>\n",
       "<style scoped>\n",
       "    .dataframe tbody tr th:only-of-type {\n",
       "        vertical-align: middle;\n",
       "    }\n",
       "\n",
       "    .dataframe tbody tr th {\n",
       "        vertical-align: top;\n",
       "    }\n",
       "\n",
       "    .dataframe thead th {\n",
       "        text-align: right;\n",
       "    }\n",
       "</style>\n",
       "<table border=\"1\" class=\"dataframe\">\n",
       "  <thead>\n",
       "    <tr style=\"text-align: right;\">\n",
       "      <th></th>\n",
       "      <th>type</th>\n",
       "      <th>device</th>\n",
       "      <th>condition</th>\n",
       "      <th>location</th>\n",
       "      <th>params</th>\n",
       "      <th>if_schedule</th>\n",
       "      <th>text</th>\n",
       "      <th>variable_text</th>\n",
       "    </tr>\n",
       "  </thead>\n",
       "  <tbody>\n",
       "    <tr>\n",
       "      <th>0</th>\n",
       "      <td>1</td>\n",
       "      <td>1</td>\n",
       "      <td>0</td>\n",
       "      <td>0</td>\n",
       "      <td>0</td>\n",
       "      <td>1</td>\n",
       "      <td>включай стиральную машину в время каждое четно...</td>\n",
       "      <td>[ставь|снимай|врубай|развлекайся|включишь|вклю...</td>\n",
       "    </tr>\n",
       "    <tr>\n",
       "      <th>1</th>\n",
       "      <td>1</td>\n",
       "      <td>1</td>\n",
       "      <td>1</td>\n",
       "      <td>0</td>\n",
       "      <td>0</td>\n",
       "      <td>1</td>\n",
       "      <td>когда стиральная машина закончит стирку сообщи...</td>\n",
       "      <td>[почему|идды|уже|отчего|внезапно|ввсё|когда|ес...</td>\n",
       "    </tr>\n",
       "    <tr>\n",
       "      <th>2</th>\n",
       "      <td>1</td>\n",
       "      <td>0</td>\n",
       "      <td>0</td>\n",
       "      <td>0</td>\n",
       "      <td>0</td>\n",
       "      <td>0</td>\n",
       "      <td>включи стирку а потом отжим</td>\n",
       "      <td>[отключаешь|отключу|включу|выключу|включаю|сни...</td>\n",
       "    </tr>\n",
       "    <tr>\n",
       "      <th>3</th>\n",
       "      <td>3</td>\n",
       "      <td>0</td>\n",
       "      <td>0</td>\n",
       "      <td>0</td>\n",
       "      <td>0</td>\n",
       "      <td>1</td>\n",
       "      <td>сколько раз за месяц я стирал</td>\n",
       "      <td>[посчитайте|уйму|ли|потратишь|склько|скоко|ско...</td>\n",
       "    </tr>\n",
       "    <tr>\n",
       "      <th>4</th>\n",
       "      <td>1</td>\n",
       "      <td>0</td>\n",
       "      <td>1</td>\n",
       "      <td>0</td>\n",
       "      <td>0</td>\n",
       "      <td>1</td>\n",
       "      <td>имитируй присутствие людей с число июня до чис...</td>\n",
       "      <td>[имитируй|асока|глумливо|подтолкни|сваливший|ш...</td>\n",
       "    </tr>\n",
       "  </tbody>\n",
       "</table>\n",
       "</div>"
      ],
      "text/plain": [
       "   type  device  condition  location  params  if_schedule  \\\n",
       "0     1       1          0         0       0            1   \n",
       "1     1       1          1         0       0            1   \n",
       "2     1       0          0         0       0            0   \n",
       "3     3       0          0         0       0            1   \n",
       "4     1       0          1         0       0            1   \n",
       "\n",
       "                                                text  \\\n",
       "0  включай стиральную машину в время каждое четно...   \n",
       "1  когда стиральная машина закончит стирку сообщи...   \n",
       "2                        включи стирку а потом отжим   \n",
       "3                      сколько раз за месяц я стирал   \n",
       "4  имитируй присутствие людей с число июня до чис...   \n",
       "\n",
       "                                       variable_text  \n",
       "0  [ставь|снимай|врубай|развлекайся|включишь|вклю...  \n",
       "1  [почему|идды|уже|отчего|внезапно|ввсё|когда|ес...  \n",
       "2  [отключаешь|отключу|включу|выключу|включаю|сни...  \n",
       "3  [посчитайте|уйму|ли|потратишь|склько|скоко|ско...  \n",
       "4  [имитируй|асока|глумливо|подтолкни|сваливший|ш...  "
      ]
     },
     "execution_count": 17,
     "metadata": {},
     "output_type": "execute_result"
    }
   ],
   "source": [
    "iot_commands_v01.head(5)"
   ]
  },
  {
   "cell_type": "code",
   "execution_count": 37,
   "metadata": {},
   "outputs": [
    {
     "name": "stdout",
     "output_type": "stream",
     "text": [
      "[2, 2, 3, 1]\n",
      "4\n",
      "2\n",
      "4\n",
      "12\n"
     ]
    },
    {
     "data": {
      "text/plain": [
       "[['a', 'c', 'e', 'f'],\n",
       " ['a', 'c', 'k', 'f'],\n",
       " ['a', 'c', 'l', 'f'],\n",
       " ['a', 'd', 'e', 'f'],\n",
       " ['a', 'd', 'k', 'f'],\n",
       " ['a', 'd', 'l', 'f'],\n",
       " ['b', 'c', 'e', 'f'],\n",
       " ['b', 'c', 'k', 'f'],\n",
       " ['b', 'c', 'l', 'f'],\n",
       " ['b', 'd', 'e', 'f'],\n",
       " ['b', 'd', 'k', 'f'],\n",
       " ['b', 'd', 'l', 'f']]"
      ]
     },
     "execution_count": 37,
     "metadata": {},
     "output_type": "execute_result"
    }
   ],
   "source": [
    "def var_text_str_to_list(var_str):\n",
    "    var_commands = [v.split(\"|\") for v in var_str.replace(\"[\",\"\").strip()[:-1].split(\"]\")]\n",
    "    print([ len(s) for s in var_commands])\n",
    "    print(len(var_commands))\n",
    "    tokens = []\n",
    "    #init tokens\n",
    "    for word in var_commands[0]:\n",
    "        tokens.append([word])\n",
    "    #generate seq\n",
    "    for var_word in var_commands[1:]:\n",
    "        print(len(tokens))\n",
    "        new_tokens = []\n",
    "        for token in tokens:\n",
    "            for word in var_word:\n",
    "                new_token = token.copy()\n",
    "                new_token.append(word)\n",
    "                new_tokens.append(new_token)\n",
    "            \n",
    "        tokens=new_tokens\n",
    "    return tokens\n",
    "    \n",
    "var_text_str_to_list(\"[a|b][c|d][e|k|l][f]\")"
   ]
  },
  {
   "cell_type": "code",
   "execution_count": 38,
   "metadata": {},
   "outputs": [],
   "source": [
    "def var_df_to_commands(df):\n",
    "    commands = {\"parent_id\":[], \"command\":[]}\n",
    "    for i, row in df.iterrows():\n",
    "        print(i)\n",
    "        com = var_text_str_to_list(row.variable_text)\n",
    "        print(com)\n",
    "        parent_id = [i] * len(com)\n",
    "        commands[\"parent_id\"].extend(parent_id)\n",
    "        commands[\"command\"].extend(com)\n",
    "    return pd.DataFrame(commands)\n"
   ]
  },
  {
   "cell_type": "code",
   "execution_count": null,
   "metadata": {},
   "outputs": [
    {
     "name": "stdout",
     "output_type": "stream",
     "text": [
      "0\n",
      "[16, 16, 16, 16, 16, 16, 16, 16, 16]\n",
      "9\n",
      "16\n",
      "256\n",
      "4096\n",
      "65536\n",
      "1048576\n"
     ]
    }
   ],
   "source": [
    "var_df_to_commands(iot_commands_v01.head(1))"
   ]
  },
  {
   "cell_type": "code",
   "execution_count": null,
   "metadata": {},
   "outputs": [],
   "source": []
  }
 ],
 "metadata": {
  "kernelspec": {
   "display_name": "Python 3",
   "language": "python",
   "name": "python3"
  },
  "language_info": {
   "codemirror_mode": {
    "name": "ipython",
    "version": 3
   },
   "file_extension": ".py",
   "mimetype": "text/x-python",
   "name": "python",
   "nbconvert_exporter": "python",
   "pygments_lexer": "ipython3",
   "version": "3.6.8"
  }
 },
 "nbformat": 4,
 "nbformat_minor": 2
}
